{
 "cells": [
  {
   "cell_type": "code",
   "execution_count": 1,
   "id": "d8217cbc",
   "metadata": {},
   "outputs": [],
   "source": [
    "%load_ext autoreload\n",
    "%autoreload 2\n",
    "%config Completer.use_jedi = False\n",
    "%matplotlib notebook"
   ]
  },
  {
   "cell_type": "code",
   "execution_count": 2,
   "id": "2689b2c1",
   "metadata": {},
   "outputs": [],
   "source": [
    "import pandas as pd\n",
    "from fuzzywuzzy import process\n",
    "import re\n",
    "import json\n",
    "from collections import defaultdict\n",
    "import requests\n",
    "import io\n",
    "import os\n",
    "from google.cloud import storage"
   ]
  },
  {
   "cell_type": "code",
   "execution_count": 3,
   "id": "eb115d6b",
   "metadata": {},
   "outputs": [],
   "source": [
    "from voting_bot_utils import get_master_issue_json_from_cloud, prepare_master_issues_json, PROJECT_BUCKET_REF\n",
    "from voting_bot_utils import put_data_to_gcp_bucket_file, update_webpage"
   ]
  },
  {
   "cell_type": "code",
   "execution_count": 4,
   "id": "817b2df4",
   "metadata": {},
   "outputs": [],
   "source": [
    "os.environ[\"GOOGLE_APPLICATION_CREDENTIALS\"]=r'uk-voting-bot-2c521de46d41.json'\n",
    "os.environ[PROJECT_BUCKET_REF]=r'uk-voting-bot-cloud-bucket-110922'"
   ]
  },
  {
   "cell_type": "markdown",
   "id": "ba9dbd72",
   "metadata": {},
   "source": [
    "### Get new data"
   ]
  },
  {
   "cell_type": "code",
   "execution_count": 37,
   "id": "46af1d8d",
   "metadata": {},
   "outputs": [
    {
     "data": {
      "text/plain": [
       "'https://votes.parliament.uk/Votes/Commons/Division/1287'"
      ]
     },
     "execution_count": 37,
     "metadata": {},
     "output_type": "execute_result"
    }
   ],
   "source": [
    "divisionNumber=1287\n",
    "# csv_link = f'https://votes.parliament.uk/Divisions/DownloadCSV/{divisionNumber}?house=Commons'\n",
    "vote_url = f'https://votes.parliament.uk/Votes/Commons/Division/{divisionNumber}'\n",
    "vote_url"
   ]
  },
  {
   "cell_type": "code",
   "execution_count": 40,
   "id": "a8e39ffe",
   "metadata": {},
   "outputs": [],
   "source": [
    "\n",
    "\n",
    "downloaded_file = 'rwanda_Division1287.csv'\n",
    "\n",
    "\n",
    "vote_data_retrieved = '2022-12-15'\n",
    "working_title = 'Rwanda'\n",
    "description = 'MPs vote to compel the government to inform and seek approval from parliament about removing asylum seekers to a third party.'\n",
    "keywords = ['rwanda']"
   ]
  },
  {
   "cell_type": "code",
   "execution_count": 41,
   "id": "3d871880",
   "metadata": {},
   "outputs": [],
   "source": [
    "vote_data = pd.read_csv(f'reference_files/{downloaded_file}',skiprows=10)"
   ]
  },
  {
   "cell_type": "markdown",
   "id": "bcbef044",
   "metadata": {},
   "source": [
    "### Check key words"
   ]
  },
  {
   "cell_type": "code",
   "execution_count": 42,
   "id": "30c9c04e",
   "metadata": {},
   "outputs": [],
   "source": [
    "master_issues = get_master_issue_json_from_cloud()\n"
   ]
  },
  {
   "cell_type": "code",
   "execution_count": 43,
   "id": "82f934f0",
   "metadata": {},
   "outputs": [
    {
     "data": {
      "text/plain": [
       "[{'subject': 'Sewage',\n",
       "  'keywords': ['sewage',\n",
       "   'river shit',\n",
       "   'beach shit',\n",
       "   'environment',\n",
       "   'amendment 45'],\n",
       "  'vote_url': 'https://votes.parliament.uk/Votes/Commons/Division/1116',\n",
       "  'description': 'MPs vote to allow the discharge of raw sewage into rivers and seas.',\n",
       "  'filename': 'Sewage_vote.json'},\n",
       " {'subject': 'Brexit',\n",
       "  'keywords': ['brexit', 'eu withdrawl'],\n",
       "  'vote_url': 'https://votes.parliament.uk/Votes/Commons/Division/749',\n",
       "  'description': 'MPs vote on the 3rd reading of the Brexit vote.',\n",
       "  'filename': 'Brexit_vote.json'},\n",
       " {'subject': 'Paterson',\n",
       "  'keywords': ['paterson', 'standards'],\n",
       "  'filename': 'Paterson_vote.json',\n",
       "  'vote_url': 'https://votes.parliament.uk/Votes/Commons/Division/1124',\n",
       "  'description': 'MPs vote not to suspend Owen Paterson after he was found guilty of paid lobbying by a standards watchdog. The amendment also provided for changing the system for investigating breaches of standards.'},\n",
       " {'subject': 'Fracking',\n",
       "  'keywords': ['fracking', 'shale'],\n",
       "  'filename': 'Fracking_vote.json',\n",
       "  'vote_url': 'https://votes.parliament.uk/Votes/Commons/Division/1372',\n",
       "  'description': 'MPs vote to ban shale gas fracking.'},\n",
       " {'subject': 'Free-School-Meals',\n",
       "  'keywords': ['school meals', 'rashford'],\n",
       "  'filename': 'Free-School-Meals_vote.json',\n",
       "  'vote_url': 'https://votes.parliament.uk/Votes/Commons/Division/896',\n",
       "  'description': 'MPs vote to provide free school meals.'},\n",
       " {'subject': 'Asylum-Overide-ECHR',\n",
       "  'keywords': ['gullis', 'asylum', 'echr'],\n",
       "  'filename': 'Asylum-Overide-ECHR_vote.json',\n",
       "  'vote_url': 'https://votes.parliament.uk/Votes/Commons/Division/1437',\n",
       "  'description': 'MPs vote to proceed with removals to Rwanda, regardless of any decision by an international court.'}]"
      ]
     },
     "execution_count": 43,
     "metadata": {},
     "output_type": "execute_result"
    }
   ],
   "source": [
    "master_issues"
   ]
  },
  {
   "cell_type": "code",
   "execution_count": 44,
   "id": "d526cfb5",
   "metadata": {},
   "outputs": [],
   "source": [
    "master_issue_dict, all_issues, issues_filenames = prepare_master_issues_json(master_issues)"
   ]
  },
  {
   "cell_type": "code",
   "execution_count": 45,
   "id": "b1befb50",
   "metadata": {},
   "outputs": [],
   "source": [
    "for new_word in keywords:\n",
    "    for old_word in all_issues:\n",
    "        score = process.extract(new_word, [old_word], limit=5)\n",
    "#         print(f'{old_word} - {new_word}: {score[0][1]}' )\n",
    "        if score[0][1] >= 80:\n",
    "#             print(f'{old_word} - {new_word}: {score[0][1]}' )\n",
    "            print('##### Clash #####')"
   ]
  },
  {
   "cell_type": "code",
   "execution_count": 46,
   "id": "092fb959",
   "metadata": {},
   "outputs": [
    {
     "name": "stdout",
     "output_type": "stream",
     "text": [
      "sewage - rwanda: 33\n",
      "river shit - rwanda: 15\n",
      "beach shit - rwanda: 15\n",
      "environment - rwanda: 30\n",
      "amendment 45 - rwanda: 45\n",
      "brexit - rwanda: 17\n",
      "eu withdrawl - rwanda: 33\n",
      "paterson - rwanda: 29\n",
      "standards - rwanda: 60\n",
      "fracking - rwanda: 43\n",
      "shale - rwanda: 18\n",
      "school meals - rwanda: 15\n",
      "rashford - rwanda: 43\n",
      "gullis - rwanda: 0\n",
      "asylum - rwanda: 17\n",
      "echr - rwanda: 20\n"
     ]
    }
   ],
   "source": [
    "for new_word in keywords:\n",
    "    for old_word in all_issues:\n",
    "        score = process.extract(new_word, [old_word], limit=5)\n",
    "        print(f'{old_word} - {new_word}: {score[0][1]}' )\n",
    "        if score[0][1] >= 80:\n",
    "#             print(f'{old_word} - {new_word}: {score[0][1]}' )\n",
    "            print('##### Clash #####')"
   ]
  },
  {
   "cell_type": "markdown",
   "id": "045e5b2e",
   "metadata": {},
   "source": [
    "### Process Issue Data File"
   ]
  },
  {
   "cell_type": "code",
   "execution_count": 47,
   "id": "16305782",
   "metadata": {},
   "outputs": [],
   "source": [
    "new_cols = [x.replace(' ','_') for x in vote_data.columns]\n",
    "vote_data.columns=new_cols"
   ]
  },
  {
   "cell_type": "code",
   "execution_count": 48,
   "id": "5215ae93",
   "metadata": {},
   "outputs": [],
   "source": [
    "vote_data['lower_name'] = vote_data.Member.str.lower()"
   ]
  },
  {
   "cell_type": "code",
   "execution_count": 49,
   "id": "1aa8bcdb",
   "metadata": {},
   "outputs": [],
   "source": [
    "vote_data.loc[vote_data.lower_name=='elizabeth truss','lower_name'] = 'liz truss'"
   ]
  },
  {
   "cell_type": "code",
   "execution_count": 50,
   "id": "7b502c52",
   "metadata": {},
   "outputs": [],
   "source": [
    "vote_records = vote_data[['Member' ,'Party' ,'Constituency' ,'Vote' , 'lower_name']].to_dict(orient='records')"
   ]
  },
  {
   "cell_type": "code",
   "execution_count": 51,
   "id": "64c57ff0",
   "metadata": {},
   "outputs": [],
   "source": [
    "vote_records = { x['lower_name']:x for x in vote_records }"
   ]
  },
  {
   "cell_type": "code",
   "execution_count": 52,
   "id": "997a4872",
   "metadata": {},
   "outputs": [
    {
     "data": {
      "text/plain": [
       "'Rwanda_vote.json'"
      ]
     },
     "execution_count": 52,
     "metadata": {},
     "output_type": "execute_result"
    }
   ],
   "source": [
    "f_name = f'{working_title}_vote.json'\n",
    "f_name"
   ]
  },
  {
   "cell_type": "code",
   "execution_count": 53,
   "id": "17fd2e85",
   "metadata": {},
   "outputs": [],
   "source": [
    "obj={}\n",
    "with open('formatted_vote_data/'+f_name,'w') as f:\n",
    "    \n",
    "    obj['vote_url']=vote_url\n",
    "    obj['vote_data_retrieved']=vote_data_retrieved\n",
    "    obj['title'] = working_title\n",
    "    obj['keywords']=keywords\n",
    "    obj['description']=description\n",
    "    obj['vote_data'] = vote_records\n",
    "    \n",
    "    json.dump(obj,f,indent=2)"
   ]
  },
  {
   "cell_type": "code",
   "execution_count": 54,
   "id": "50489d99",
   "metadata": {},
   "outputs": [],
   "source": [
    "put_data_to_gcp_bucket_file(data=obj, filename=f_name)"
   ]
  },
  {
   "cell_type": "markdown",
   "id": "0f2a9d80",
   "metadata": {},
   "source": [
    "### Process Master Data file"
   ]
  },
  {
   "cell_type": "code",
   "execution_count": 55,
   "id": "8e65756c",
   "metadata": {},
   "outputs": [],
   "source": [
    "new_element = {'subject': working_title,\n",
    "  'keywords': keywords,\n",
    "  'filename': f_name,\n",
    "  'vote_url':vote_url,   \n",
    "  'description':description,  \n",
    "              }"
   ]
  },
  {
   "cell_type": "code",
   "execution_count": 56,
   "id": "bff56b9d",
   "metadata": {},
   "outputs": [],
   "source": [
    "master_issues.append(new_element)"
   ]
  },
  {
   "cell_type": "code",
   "execution_count": 57,
   "id": "c7ddd949",
   "metadata": {},
   "outputs": [
    {
     "data": {
      "text/plain": [
       "[{'subject': 'Sewage',\n",
       "  'keywords': ['sewage',\n",
       "   'river shit',\n",
       "   'beach shit',\n",
       "   'environment',\n",
       "   'amendment 45'],\n",
       "  'vote_url': 'https://votes.parliament.uk/Votes/Commons/Division/1116',\n",
       "  'description': 'MPs vote to allow the discharge of raw sewage into rivers and seas.',\n",
       "  'filename': 'Sewage_vote.json'},\n",
       " {'subject': 'Brexit',\n",
       "  'keywords': ['brexit', 'eu withdrawl'],\n",
       "  'vote_url': 'https://votes.parliament.uk/Votes/Commons/Division/749',\n",
       "  'description': 'MPs vote on the 3rd reading of the Brexit vote.',\n",
       "  'filename': 'Brexit_vote.json'},\n",
       " {'subject': 'Paterson',\n",
       "  'keywords': ['paterson', 'standards'],\n",
       "  'filename': 'Paterson_vote.json',\n",
       "  'vote_url': 'https://votes.parliament.uk/Votes/Commons/Division/1124',\n",
       "  'description': 'MPs vote not to suspend Owen Paterson after he was found guilty of paid lobbying by a standards watchdog. The amendment also provided for changing the system for investigating breaches of standards.'},\n",
       " {'subject': 'Fracking',\n",
       "  'keywords': ['fracking', 'shale'],\n",
       "  'filename': 'Fracking_vote.json',\n",
       "  'vote_url': 'https://votes.parliament.uk/Votes/Commons/Division/1372',\n",
       "  'description': 'MPs vote to ban shale gas fracking.'},\n",
       " {'subject': 'Free-School-Meals',\n",
       "  'keywords': ['school meals', 'rashford'],\n",
       "  'filename': 'Free-School-Meals_vote.json',\n",
       "  'vote_url': 'https://votes.parliament.uk/Votes/Commons/Division/896',\n",
       "  'description': 'MPs vote to provide free school meals.'},\n",
       " {'subject': 'Asylum-Overide-ECHR',\n",
       "  'keywords': ['gullis', 'asylum', 'echr'],\n",
       "  'filename': 'Asylum-Overide-ECHR_vote.json',\n",
       "  'vote_url': 'https://votes.parliament.uk/Votes/Commons/Division/1437',\n",
       "  'description': 'MPs vote to proceed with removals to Rwanda, regardless of any decision by an international court.'},\n",
       " {'subject': 'Rwanda',\n",
       "  'keywords': ['rwanda'],\n",
       "  'filename': 'Rwanda_vote.json',\n",
       "  'vote_url': 'https://votes.parliament.uk/Votes/Commons/Division/1287',\n",
       "  'description': 'MPs vote to compel the government to inform and seek approval from parliament about removing asylum seekers to a third party.'}]"
      ]
     },
     "execution_count": 57,
     "metadata": {},
     "output_type": "execute_result"
    }
   ],
   "source": [
    "master_issues"
   ]
  },
  {
   "cell_type": "code",
   "execution_count": 58,
   "id": "4f49a7ed",
   "metadata": {},
   "outputs": [],
   "source": [
    "## upload to bucket\n",
    "put_data_to_gcp_bucket_file(data=master_issues,filename='master_issues_list.json')"
   ]
  },
  {
   "cell_type": "markdown",
   "id": "a67481ba",
   "metadata": {},
   "source": [
    "### update the website"
   ]
  },
  {
   "cell_type": "code",
   "execution_count": 59,
   "id": "8b495aa0",
   "metadata": {},
   "outputs": [],
   "source": [
    "with open('website/template.html', 'r') as f:\n",
    "    website_text = f.read()"
   ]
  },
  {
   "cell_type": "code",
   "execution_count": 60,
   "id": "0f697f08",
   "metadata": {},
   "outputs": [],
   "source": [
    "table_text=''\n",
    "for issue in master_issues:\n",
    "    table_text+='<tr>'\n",
    "    table_text += '<td>'+issue['subject']+'</td>'\n",
    "    table_text += '<td>'+issue['description']+'</td>'\n",
    "    table_text += '<td>'+', '.join(issue['keywords'])+'</td>'\n",
    "    table_text += '<td><a href=\"'+issue['vote_url']+'\">Link</a></td>'\n",
    "    table_text+='</tr>'    "
   ]
  },
  {
   "cell_type": "code",
   "execution_count": 61,
   "id": "990c5610",
   "metadata": {},
   "outputs": [],
   "source": [
    "new_page = website_text.replace('MARKER',table_text)"
   ]
  },
  {
   "cell_type": "code",
   "execution_count": 62,
   "id": "d22c9a33",
   "metadata": {},
   "outputs": [],
   "source": [
    "# write locally\n",
    "with open('website/main.html','w') as f:\n",
    "    f.write(new_page)"
   ]
  },
  {
   "cell_type": "code",
   "execution_count": 63,
   "id": "099369d6",
   "metadata": {},
   "outputs": [],
   "source": [
    "update_webpage(new_page)"
   ]
  },
  {
   "cell_type": "raw",
   "id": "c27615ba",
   "metadata": {},
   "source": [
    "https://storage.googleapis.com/uk-voting-bot-cloud-bucket-110922/web/main.html"
   ]
  },
  {
   "cell_type": "markdown",
   "id": "2ddfc59f",
   "metadata": {},
   "source": [
    "### send a tweet"
   ]
  },
  {
   "cell_type": "code",
   "execution_count": 64,
   "id": "cb5e56d6",
   "metadata": {},
   "outputs": [],
   "source": [
    "import tweepy\n",
    "from config import API_KEY, API_SECRET, ACCESS_TOKEN, ACCESS_SECRET"
   ]
  },
  {
   "cell_type": "code",
   "execution_count": 65,
   "id": "a241eda2",
   "metadata": {},
   "outputs": [
    {
     "data": {
      "text/plain": [
       "'New vote data added: MPs vote to compel the government to inform and seek approval from parliament about removing asylum seekers to a third party. Keywords: rwanda'"
      ]
     },
     "execution_count": 65,
     "metadata": {},
     "output_type": "execute_result"
    }
   ],
   "source": [
    "keyword_str = ', '.join(keywords)\n",
    "tweet = f'New vote data added: {description} Keywords: {keyword_str}'\n",
    "tweet"
   ]
  },
  {
   "cell_type": "code",
   "execution_count": 66,
   "id": "ec062bdd",
   "metadata": {},
   "outputs": [],
   "source": [
    "assert len(tweet) < 280"
   ]
  },
  {
   "cell_type": "code",
   "execution_count": 67,
   "id": "fb080a37",
   "metadata": {},
   "outputs": [],
   "source": [
    "auth = tweepy.OAuth1UserHandler(\n",
    "   API_KEY, API_SECRET,\n",
    "   ACCESS_TOKEN , ACCESS_SECRET\n",
    ")\n",
    "api = tweepy.API(auth)"
   ]
  },
  {
   "cell_type": "code",
   "execution_count": 68,
   "id": "9e09efb9",
   "metadata": {},
   "outputs": [
    {
     "name": "stdout",
     "output_type": "stream",
     "text": [
      "Authentication Successful\n"
     ]
    }
   ],
   "source": [
    "try:\n",
    "    api.verify_credentials()\n",
    "    print(\"Authentication Successful\")\n",
    "except:\n",
    "    print(\"Authentication Error\")"
   ]
  },
  {
   "cell_type": "code",
   "execution_count": 69,
   "id": "7f84b4d1",
   "metadata": {},
   "outputs": [
    {
     "data": {
      "text/plain": [
       "Status(_api=<tweepy.api.API object at 0x7e196cf73a00>, _json={'created_at': 'Thu Dec 15 01:58:24 +0000 2022', 'id': 1603207816189296642, 'id_str': '1603207816189296642', 'text': 'New vote data added: MPs vote to compel the government to inform and seek approval from parliament about removing a… https://t.co/OBCrTlWz2p', 'truncated': True, 'entities': {'hashtags': [], 'symbols': [], 'user_mentions': [], 'urls': [{'url': 'https://t.co/OBCrTlWz2p', 'expanded_url': 'https://twitter.com/i/web/status/1603207816189296642', 'display_url': 'twitter.com/i/web/status/1…', 'indices': [117, 140]}]}, 'source': '<a href=\"http://www.jjcasswell.com\" rel=\"nofollow\">howdidtheyvoteuk</a>', 'in_reply_to_status_id': None, 'in_reply_to_status_id_str': None, 'in_reply_to_user_id': None, 'in_reply_to_user_id_str': None, 'in_reply_to_screen_name': None, 'user': {'id': 1561845537950801921, 'id_str': '1561845537950801921', 'name': 'howdidtheyvoteuk', 'screen_name': 'howdidtheyvote1', 'location': 'UK', 'description': 'Bot, responding to queries about UK MPs voting results', 'url': None, 'entities': {'description': {'urls': []}}, 'protected': False, 'followers_count': 3, 'friends_count': 2, 'listed_count': 0, 'created_at': 'Mon Aug 22 22:40:23 +0000 2022', 'favourites_count': 0, 'utc_offset': None, 'time_zone': None, 'geo_enabled': False, 'verified': False, 'statuses_count': 14, 'lang': None, 'contributors_enabled': False, 'is_translator': False, 'is_translation_enabled': False, 'profile_background_color': 'F5F8FA', 'profile_background_image_url': None, 'profile_background_image_url_https': None, 'profile_background_tile': False, 'profile_image_url': 'http://pbs.twimg.com/profile_images/1582874631719067649/h9mmDO-S_normal.jpg', 'profile_image_url_https': 'https://pbs.twimg.com/profile_images/1582874631719067649/h9mmDO-S_normal.jpg', 'profile_link_color': '1DA1F2', 'profile_sidebar_border_color': 'C0DEED', 'profile_sidebar_fill_color': 'DDEEF6', 'profile_text_color': '333333', 'profile_use_background_image': True, 'has_extended_profile': True, 'default_profile': True, 'default_profile_image': False, 'following': False, 'follow_request_sent': False, 'notifications': False, 'translator_type': 'none', 'withheld_in_countries': []}, 'geo': None, 'coordinates': None, 'place': None, 'contributors': None, 'is_quote_status': False, 'retweet_count': 0, 'favorite_count': 0, 'favorited': False, 'retweeted': False, 'lang': 'en'}, created_at=datetime.datetime(2022, 12, 15, 1, 58, 24, tzinfo=datetime.timezone.utc), id=1603207816189296642, id_str='1603207816189296642', text='New vote data added: MPs vote to compel the government to inform and seek approval from parliament about removing a… https://t.co/OBCrTlWz2p', truncated=True, entities={'hashtags': [], 'symbols': [], 'user_mentions': [], 'urls': [{'url': 'https://t.co/OBCrTlWz2p', 'expanded_url': 'https://twitter.com/i/web/status/1603207816189296642', 'display_url': 'twitter.com/i/web/status/1…', 'indices': [117, 140]}]}, source='howdidtheyvoteuk', source_url='http://www.jjcasswell.com', in_reply_to_status_id=None, in_reply_to_status_id_str=None, in_reply_to_user_id=None, in_reply_to_user_id_str=None, in_reply_to_screen_name=None, author=User(_api=<tweepy.api.API object at 0x7e196cf73a00>, _json={'id': 1561845537950801921, 'id_str': '1561845537950801921', 'name': 'howdidtheyvoteuk', 'screen_name': 'howdidtheyvote1', 'location': 'UK', 'description': 'Bot, responding to queries about UK MPs voting results', 'url': None, 'entities': {'description': {'urls': []}}, 'protected': False, 'followers_count': 3, 'friends_count': 2, 'listed_count': 0, 'created_at': 'Mon Aug 22 22:40:23 +0000 2022', 'favourites_count': 0, 'utc_offset': None, 'time_zone': None, 'geo_enabled': False, 'verified': False, 'statuses_count': 14, 'lang': None, 'contributors_enabled': False, 'is_translator': False, 'is_translation_enabled': False, 'profile_background_color': 'F5F8FA', 'profile_background_image_url': None, 'profile_background_image_url_https': None, 'profile_background_tile': False, 'profile_image_url': 'http://pbs.twimg.com/profile_images/1582874631719067649/h9mmDO-S_normal.jpg', 'profile_image_url_https': 'https://pbs.twimg.com/profile_images/1582874631719067649/h9mmDO-S_normal.jpg', 'profile_link_color': '1DA1F2', 'profile_sidebar_border_color': 'C0DEED', 'profile_sidebar_fill_color': 'DDEEF6', 'profile_text_color': '333333', 'profile_use_background_image': True, 'has_extended_profile': True, 'default_profile': True, 'default_profile_image': False, 'following': False, 'follow_request_sent': False, 'notifications': False, 'translator_type': 'none', 'withheld_in_countries': []}, id=1561845537950801921, id_str='1561845537950801921', name='howdidtheyvoteuk', screen_name='howdidtheyvote1', location='UK', description='Bot, responding to queries about UK MPs voting results', url=None, entities={'description': {'urls': []}}, protected=False, followers_count=3, friends_count=2, listed_count=0, created_at=datetime.datetime(2022, 8, 22, 22, 40, 23, tzinfo=datetime.timezone.utc), favourites_count=0, utc_offset=None, time_zone=None, geo_enabled=False, verified=False, statuses_count=14, lang=None, contributors_enabled=False, is_translator=False, is_translation_enabled=False, profile_background_color='F5F8FA', profile_background_image_url=None, profile_background_image_url_https=None, profile_background_tile=False, profile_image_url='http://pbs.twimg.com/profile_images/1582874631719067649/h9mmDO-S_normal.jpg', profile_image_url_https='https://pbs.twimg.com/profile_images/1582874631719067649/h9mmDO-S_normal.jpg', profile_link_color='1DA1F2', profile_sidebar_border_color='C0DEED', profile_sidebar_fill_color='DDEEF6', profile_text_color='333333', profile_use_background_image=True, has_extended_profile=True, default_profile=True, default_profile_image=False, following=False, follow_request_sent=False, notifications=False, translator_type='none', withheld_in_countries=[]), user=User(_api=<tweepy.api.API object at 0x7e196cf73a00>, _json={'id': 1561845537950801921, 'id_str': '1561845537950801921', 'name': 'howdidtheyvoteuk', 'screen_name': 'howdidtheyvote1', 'location': 'UK', 'description': 'Bot, responding to queries about UK MPs voting results', 'url': None, 'entities': {'description': {'urls': []}}, 'protected': False, 'followers_count': 3, 'friends_count': 2, 'listed_count': 0, 'created_at': 'Mon Aug 22 22:40:23 +0000 2022', 'favourites_count': 0, 'utc_offset': None, 'time_zone': None, 'geo_enabled': False, 'verified': False, 'statuses_count': 14, 'lang': None, 'contributors_enabled': False, 'is_translator': False, 'is_translation_enabled': False, 'profile_background_color': 'F5F8FA', 'profile_background_image_url': None, 'profile_background_image_url_https': None, 'profile_background_tile': False, 'profile_image_url': 'http://pbs.twimg.com/profile_images/1582874631719067649/h9mmDO-S_normal.jpg', 'profile_image_url_https': 'https://pbs.twimg.com/profile_images/1582874631719067649/h9mmDO-S_normal.jpg', 'profile_link_color': '1DA1F2', 'profile_sidebar_border_color': 'C0DEED', 'profile_sidebar_fill_color': 'DDEEF6', 'profile_text_color': '333333', 'profile_use_background_image': True, 'has_extended_profile': True, 'default_profile': True, 'default_profile_image': False, 'following': False, 'follow_request_sent': False, 'notifications': False, 'translator_type': 'none', 'withheld_in_countries': []}, id=1561845537950801921, id_str='1561845537950801921', name='howdidtheyvoteuk', screen_name='howdidtheyvote1', location='UK', description='Bot, responding to queries about UK MPs voting results', url=None, entities={'description': {'urls': []}}, protected=False, followers_count=3, friends_count=2, listed_count=0, created_at=datetime.datetime(2022, 8, 22, 22, 40, 23, tzinfo=datetime.timezone.utc), favourites_count=0, utc_offset=None, time_zone=None, geo_enabled=False, verified=False, statuses_count=14, lang=None, contributors_enabled=False, is_translator=False, is_translation_enabled=False, profile_background_color='F5F8FA', profile_background_image_url=None, profile_background_image_url_https=None, profile_background_tile=False, profile_image_url='http://pbs.twimg.com/profile_images/1582874631719067649/h9mmDO-S_normal.jpg', profile_image_url_https='https://pbs.twimg.com/profile_images/1582874631719067649/h9mmDO-S_normal.jpg', profile_link_color='1DA1F2', profile_sidebar_border_color='C0DEED', profile_sidebar_fill_color='DDEEF6', profile_text_color='333333', profile_use_background_image=True, has_extended_profile=True, default_profile=True, default_profile_image=False, following=False, follow_request_sent=False, notifications=False, translator_type='none', withheld_in_countries=[]), geo=None, coordinates=None, place=None, contributors=None, is_quote_status=False, retweet_count=0, favorite_count=0, favorited=False, retweeted=False, lang='en')"
      ]
     },
     "execution_count": 69,
     "metadata": {},
     "output_type": "execute_result"
    }
   ],
   "source": [
    "status = api.update_status(status=tweet)\n",
    "status"
   ]
  },
  {
   "cell_type": "code",
   "execution_count": null,
   "id": "67bcde95",
   "metadata": {},
   "outputs": [],
   "source": []
  }
 ],
 "metadata": {
  "kernelspec": {
   "display_name": "Python 3 (ipykernel)",
   "language": "python",
   "name": "python3"
  },
  "language_info": {
   "codemirror_mode": {
    "name": "ipython",
    "version": 3
   },
   "file_extension": ".py",
   "mimetype": "text/x-python",
   "name": "python",
   "nbconvert_exporter": "python",
   "pygments_lexer": "ipython3",
   "version": "3.9.2"
  }
 },
 "nbformat": 4,
 "nbformat_minor": 5
}
